{
 "cells": [
  {
   "cell_type": "code",
   "execution_count": 1,
   "metadata": {},
   "outputs": [],
   "source": [
    "import numpy as np\n",
    "import cv2 \n",
    "\n",
    "def trackFace(method):\n",
    "    # Capture a video stream\n",
    "    cap = cv2.VideoCapture(0)\n",
    "\n",
    "    # initial frame\n",
    "    ret,frame = cap.read()\n",
    "\n",
    "    # create har cascade classifier.\n",
    "    face_cascade = cv2.CascadeClassifier('data/haarcascades/haarcascade_frontalface_default.xml')\n",
    "    face_rects = face_cascade.detectMultiScale(frame) \n",
    "\n",
    "    # Convert this list of a single array to a tuple of (x,y,w,h)\n",
    "    (face_x,face_y,w,h) = tuple(face_rects[0]) \n",
    "    track_window = (face_x,face_y,w,h)\n",
    "    # set up the ROI for tracking\n",
    "    roi = frame[face_y:face_y+h, face_x:face_x+w]\n",
    "\n",
    "\n",
    "    # Use the HSV Color Mapping\n",
    "    hsv_roi =  cv2.cvtColor(roi, cv2.COLOR_BGR2HSV)\n",
    "\n",
    "    # Find histogram to backproject the target on each frame for calculation of meanshit\n",
    "    roi_hist = cv2.calcHist([hsv_roi],[0],None,[180],[0,180])\n",
    "\n",
    "    # Normalize the histogram array values given a min of 0 and max of 255\n",
    "    cv2.normalize(roi_hist,roi_hist,0,255,cv2.NORM_MINMAX)\n",
    "\n",
    "\n",
    "    # Setup the termination criteria, either 10 iteration or move by at least 1 pt\n",
    "    term_crit = ( cv2.TERM_CRITERIA_EPS | cv2.TERM_CRITERIA_COUNT, 10, 1 )\n",
    "\n",
    "    while True:\n",
    "        ret ,frame = cap.read()\n",
    "        if ret == True:\n",
    "        \n",
    "            # Grab the Frame in HSV\n",
    "            hsv = cv2.cvtColor(frame, cv2.COLOR_BGR2HSV)\n",
    "        \n",
    "            # Calculate the Back Projection based off the roi_hist created earlier\n",
    "            dst = cv2.calcBackProject([hsv],[0],roi_hist,[0,180],1)\n",
    "            \n",
    "            if method == 'MeanShift':\n",
    "                # Apply meanshift to get the new coordinates of the rectangle\n",
    "                ret, track_window = cv2.meanShift(dst, track_window, term_crit)\n",
    "        \n",
    "                # Draw the new rectangle on the image\n",
    "                x,y,w,h = track_window\n",
    "                img2 = cv2.rectangle(frame, (x,y), (x+w,y+h), (0,0,255),5)\n",
    "        \n",
    "                cv2.imshow('img2',img2)\n",
    "            \n",
    "            elif method == 'CamShift':\n",
    "                # Apply Camshift to get the new coordinates of the rectangle\n",
    "                ret, track_window = cv2.CamShift(dst, track_window, term_crit)\n",
    "                # Draw it on image\n",
    "                pts = cv2.boxPoints(ret)\n",
    "                pts = np.int0(pts)\n",
    "                img2 = cv2.polylines(frame,[pts],True, (0,0,255),5)\n",
    "                cv2.imshow('img2',img2)\n",
    "            else:\n",
    "                print(\"Method should be either MeanShift or CamShift\")\n",
    "        \n",
    "        \n",
    "            k = cv2.waitKey(1) & 0xff\n",
    "            if k == 27:\n",
    "                break\n",
    "        \n",
    "        else:\n",
    "            break\n",
    "        \n",
    "    cv2.destroyAllWindows()\n",
    "    cap.release()"
   ]
  },
  {
   "cell_type": "code",
   "execution_count": 2,
   "metadata": {},
   "outputs": [
    {
     "ename": "IndexError",
     "evalue": "tuple index out of range",
     "output_type": "error",
     "traceback": [
      "\u001b[1;31m---------------------------------------------------------------------------\u001b[0m",
      "\u001b[1;31mIndexError\u001b[0m                                Traceback (most recent call last)",
      "\u001b[1;32m<ipython-input-2-dc5be062705d>\u001b[0m in \u001b[0;36m<module>\u001b[1;34m\u001b[0m\n\u001b[1;32m----> 1\u001b[1;33m \u001b[0mtrackFace\u001b[0m\u001b[1;33m(\u001b[0m\u001b[1;34m'MeanShift'\u001b[0m\u001b[1;33m)\u001b[0m\u001b[1;33m\u001b[0m\u001b[0m\n\u001b[0m",
      "\u001b[1;32m<ipython-input-1-d9cc64b7537d>\u001b[0m in \u001b[0;36mtrackFace\u001b[1;34m(method)\u001b[0m\n\u001b[0;32m     14\u001b[0m \u001b[1;33m\u001b[0m\u001b[0m\n\u001b[0;32m     15\u001b[0m     \u001b[1;31m# Convert this list of a single array to a tuple of (x,y,w,h)\u001b[0m\u001b[1;33m\u001b[0m\u001b[1;33m\u001b[0m\u001b[0m\n\u001b[1;32m---> 16\u001b[1;33m     \u001b[1;33m(\u001b[0m\u001b[0mface_x\u001b[0m\u001b[1;33m,\u001b[0m\u001b[0mface_y\u001b[0m\u001b[1;33m,\u001b[0m\u001b[0mw\u001b[0m\u001b[1;33m,\u001b[0m\u001b[0mh\u001b[0m\u001b[1;33m)\u001b[0m \u001b[1;33m=\u001b[0m \u001b[0mtuple\u001b[0m\u001b[1;33m(\u001b[0m\u001b[0mface_rects\u001b[0m\u001b[1;33m[\u001b[0m\u001b[1;36m0\u001b[0m\u001b[1;33m]\u001b[0m\u001b[1;33m)\u001b[0m\u001b[1;33m\u001b[0m\u001b[0m\n\u001b[0m\u001b[0;32m     17\u001b[0m     \u001b[0mtrack_window\u001b[0m \u001b[1;33m=\u001b[0m \u001b[1;33m(\u001b[0m\u001b[0mface_x\u001b[0m\u001b[1;33m,\u001b[0m\u001b[0mface_y\u001b[0m\u001b[1;33m,\u001b[0m\u001b[0mw\u001b[0m\u001b[1;33m,\u001b[0m\u001b[0mh\u001b[0m\u001b[1;33m)\u001b[0m\u001b[1;33m\u001b[0m\u001b[0m\n\u001b[0;32m     18\u001b[0m     \u001b[1;31m# set up the ROI for tracking\u001b[0m\u001b[1;33m\u001b[0m\u001b[1;33m\u001b[0m\u001b[0m\n",
      "\u001b[1;31mIndexError\u001b[0m: tuple index out of range"
     ]
    }
   ],
   "source": [
    "trackFace('MeanShift')"
   ]
  },
  {
   "cell_type": "code",
   "execution_count": null,
   "metadata": {},
   "outputs": [],
   "source": []
  }
 ],
 "metadata": {
  "kernelspec": {
   "display_name": "Python 3",
   "language": "python",
   "name": "python3"
  }
 },
 "nbformat": 4,
 "nbformat_minor": 2
}
