{
 "cells": [
  {
   "cell_type": "code",
   "execution_count": 5,
   "metadata": {},
   "outputs": [
    {
     "ename": "UnboundLocalError",
     "evalue": "local variable 'img_copy' referenced before assignment",
     "output_type": "error",
     "traceback": [
      "\u001b[1;31m---------------------------------------------------------------------------\u001b[0m",
      "\u001b[1;31mUnboundLocalError\u001b[0m                         Traceback (most recent call last)",
      "\u001b[1;32m<ipython-input-5-53b9da35812d>\u001b[0m in \u001b[0;36m<module>\u001b[1;34m\u001b[0m\n\u001b[0;32m     63\u001b[0m \u001b[0mcv2\u001b[0m\u001b[1;33m.\u001b[0m\u001b[0msetMouseCallback\u001b[0m\u001b[1;33m(\u001b[0m\u001b[1;34m'My window'\u001b[0m\u001b[1;33m,\u001b[0m\u001b[0mmouseCallback\u001b[0m\u001b[1;33m)\u001b[0m\u001b[1;33m\u001b[0m\u001b[0m\n\u001b[0;32m     64\u001b[0m \u001b[1;33m\u001b[0m\u001b[0m\n\u001b[1;32m---> 65\u001b[1;33m \u001b[0msegmentUsingWaterShed\u001b[0m\u001b[1;33m(\u001b[0m\u001b[0mimg\u001b[0m\u001b[1;33m,\u001b[0m\u001b[0mmarkerImg\u001b[0m\u001b[1;33m,\u001b[0m\u001b[0msegments\u001b[0m\u001b[1;33m,\u001b[0m\u001b[0mcolors\u001b[0m\u001b[1;33m)\u001b[0m\u001b[1;33m\u001b[0m\u001b[0m\n\u001b[0m",
      "\u001b[1;32m<ipython-input-5-53b9da35812d>\u001b[0m in \u001b[0;36msegmentUsingWaterShed\u001b[1;34m(img, markerImg, segments, colors)\u001b[0m\n\u001b[0;32m     23\u001b[0m     \u001b[1;32mwhile\u001b[0m \u001b[1;32mTrue\u001b[0m\u001b[1;33m:\u001b[0m\u001b[1;33m\u001b[0m\u001b[0m\n\u001b[0;32m     24\u001b[0m         \u001b[0mcv2\u001b[0m\u001b[1;33m.\u001b[0m\u001b[0mimshow\u001b[0m\u001b[1;33m(\u001b[0m\u001b[1;34m'Watershed Segmented'\u001b[0m\u001b[1;33m,\u001b[0m\u001b[0msegments\u001b[0m\u001b[1;33m)\u001b[0m\u001b[1;33m\u001b[0m\u001b[0m\n\u001b[1;32m---> 25\u001b[1;33m         \u001b[0mcv2\u001b[0m\u001b[1;33m.\u001b[0m\u001b[0mimshow\u001b[0m\u001b[1;33m(\u001b[0m\u001b[1;34m'Mountain'\u001b[0m\u001b[1;33m,\u001b[0m\u001b[0mimg_copy\u001b[0m\u001b[1;33m)\u001b[0m\u001b[1;33m\u001b[0m\u001b[0m\n\u001b[0m\u001b[0;32m     26\u001b[0m \u001b[1;33m\u001b[0m\u001b[0m\n\u001b[0;32m     27\u001b[0m         \u001b[0mk\u001b[0m\u001b[1;33m=\u001b[0m\u001b[0mcv2\u001b[0m\u001b[1;33m.\u001b[0m\u001b[0mwaitKey\u001b[0m\u001b[1;33m(\u001b[0m\u001b[1;36m1\u001b[0m\u001b[1;33m)\u001b[0m\u001b[1;33m\u001b[0m\u001b[0m\n",
      "\u001b[1;31mUnboundLocalError\u001b[0m: local variable 'img_copy' referenced before assignment"
     ]
    }
   ],
   "source": [
    "import cv2\n",
    "import numpy as np\n",
    "import matplotlib.pyplot as plt\n",
    "from matplotlib import cm\n",
    "%matplotlib inline\n",
    "\n",
    "n_markers =10\n",
    "current_marker = 1\n",
    "marks_updated = False\n",
    "\n",
    "def mouseCallback(event,x,y,flags,param):    \n",
    "    if event == cv2.EVENT_LBUTTONDOWN:\n",
    "        cv2.circle(markerImg,(x,y),10,(current_marker),-1)        \n",
    "        cv2.circle(img_copy,(x,y),10,colors[current_marker],-1)    \n",
    "        marks_updated = True\n",
    "\n",
    "def createRGB(i):\n",
    "    x = np.array(cm.tab10(i))[:3]*255\n",
    "    return tuple(x)\n",
    "        \n",
    "def segmentUsingWaterShed(img,markerImg,segments,colors):\n",
    "     \n",
    "    img_copy = img.copy()\n",
    "    while True:\n",
    "        cv2.imshow('Watershed Segmented',segments)\n",
    "        cv2.imshow('Mountain',img_copy)\n",
    "    \n",
    "        k=cv2.waitKey(1)\n",
    "    \n",
    "        if k==27:\n",
    "            break\n",
    "        \n",
    "        elif k==ord('c'):\n",
    "            img_copy = img.copy()\n",
    "            markerImg = np.zeros(img.shape[:2],dtype=np.int32)\n",
    "            segments = np.zeros(img.shape,dtype=np.uint8)\n",
    "        \n",
    "        \n",
    "        elif k >0 and chr(k).isdigit():\n",
    "            current_marker  = int(chr(k))\n",
    "        \n",
    "        if marks_updated == True:\n",
    "            markerImg_copy = markerImg.copy()\n",
    "            cv2.watershed(img,markerImg_copy)        \n",
    "            segments = np.zeros(img.shape,dtype=np.uint8)\n",
    "        \n",
    "        for color_ind in range(n_markers):\n",
    "            segments[markerImg_copy==(color_ind)] = colors[color_ind]            \n",
    "            marks_updated = False\n",
    "            \n",
    "    cv2.destroyAllWindows()\n",
    "        \n",
    "    \n",
    "\n",
    "img = cv2.imread(\"./data/mountain.jpg\")  \n",
    "markerImg = np.zeros(img.shape[:2],dtype=np.int32)\n",
    "segments = np.zeros(img.shape,dtype=np.uint8)\n",
    "colors=[]\n",
    "for i in range(10):\n",
    "    colors.append(createRGB(i))\n",
    "    \n",
    "cv2.namedWindow('My window')\n",
    "cv2.setMouseCallback('My window',mouseCallback)\n",
    "    \n",
    "segmentUsingWaterShed(img,markerImg,segments,colors)"
   ]
  },
  {
   "cell_type": "code",
   "execution_count": 2,
   "metadata": {},
   "outputs": [
    {
     "ename": "UnboundLocalError",
     "evalue": "local variable 'markerImg_copy' referenced before assignment",
     "output_type": "error",
     "traceback": [
      "\u001b[1;31m---------------------------------------------------------------------------\u001b[0m",
      "\u001b[1;31mUnboundLocalError\u001b[0m                         Traceback (most recent call last)",
      "\u001b[1;32m<ipython-input-2-1ae6cb2e1378>\u001b[0m in \u001b[0;36m<module>\u001b[1;34m\u001b[0m\n\u001b[0;32m      1\u001b[0m \u001b[0mimg\u001b[0m \u001b[1;33m=\u001b[0m \u001b[0mcv2\u001b[0m\u001b[1;33m.\u001b[0m\u001b[0mimread\u001b[0m\u001b[1;33m(\u001b[0m\u001b[1;34m\"./data/mountain.jpg\"\u001b[0m\u001b[1;33m)\u001b[0m\u001b[1;33m\u001b[0m\u001b[0m\n\u001b[1;32m----> 2\u001b[1;33m \u001b[0msegmentUsingWaterShed\u001b[0m\u001b[1;33m(\u001b[0m\u001b[0mimg\u001b[0m\u001b[1;33m)\u001b[0m\u001b[1;33m\u001b[0m\u001b[0m\n\u001b[0m",
      "\u001b[1;32m<ipython-input-1-9e962abbc6a9>\u001b[0m in \u001b[0;36msegmentUsingWaterShed\u001b[1;34m(img)\u001b[0m\n\u001b[0;32m     57\u001b[0m \u001b[1;33m\u001b[0m\u001b[0m\n\u001b[0;32m     58\u001b[0m         \u001b[1;32mfor\u001b[0m \u001b[0mcolor_ind\u001b[0m \u001b[1;32min\u001b[0m \u001b[0mrange\u001b[0m\u001b[1;33m(\u001b[0m\u001b[0mn_markers\u001b[0m\u001b[1;33m)\u001b[0m\u001b[1;33m:\u001b[0m\u001b[1;33m\u001b[0m\u001b[0m\n\u001b[1;32m---> 59\u001b[1;33m             \u001b[0msegments\u001b[0m\u001b[1;33m[\u001b[0m\u001b[0mmarkerImg_copy\u001b[0m\u001b[1;33m==\u001b[0m\u001b[1;33m(\u001b[0m\u001b[0mcolor_ind\u001b[0m\u001b[1;33m)\u001b[0m\u001b[1;33m]\u001b[0m \u001b[1;33m=\u001b[0m \u001b[0mcolors\u001b[0m\u001b[1;33m[\u001b[0m\u001b[0mcolor_ind\u001b[0m\u001b[1;33m]\u001b[0m\u001b[1;33m\u001b[0m\u001b[0m\n\u001b[0m\u001b[0;32m     60\u001b[0m             \u001b[0mmarks_updated\u001b[0m \u001b[1;33m=\u001b[0m \u001b[1;32mFalse\u001b[0m\u001b[1;33m\u001b[0m\u001b[0m\n\u001b[0;32m     61\u001b[0m \u001b[1;33m\u001b[0m\u001b[0m\n",
      "\u001b[1;31mUnboundLocalError\u001b[0m: local variable 'markerImg_copy' referenced before assignment"
     ]
    }
   ],
   "source": []
  },
  {
   "cell_type": "code",
   "execution_count": 3,
   "metadata": {},
   "outputs": [],
   "source": [
    "img = cv2.imread(\"./data/mountain.jpg\")\n",
    "img_copy = img.copy()\n",
    "markerImg = np.zeros(img.shape[:2],dtype=np.int32)\n",
    "segments = np.zeros(img.shape,dtype=np.uint8)\n",
    "\n",
    "def createRGB(i):\n",
    "    x = np.array(cm.tab10(i))[:3]*255\n",
    "    return tuple(x)\n",
    "    \n",
    "colors=[]\n",
    "for i in range(10):\n",
    "    colors.append(createRGB(i))"
   ]
  },
  {
   "cell_type": "code",
   "execution_count": 4,
   "metadata": {},
   "outputs": [],
   "source": [
    "n_markers =10\n",
    "current_marker = 1\n",
    "marks_updated = False"
   ]
  },
  {
   "cell_type": "code",
   "execution_count": 5,
   "metadata": {},
   "outputs": [],
   "source": [
    "def mouseCallback(event,x,y,flags,param):\n",
    "    global marks_updated\n",
    "    \n",
    "    if event == cv2.EVENT_LBUTTONDOWN:\n",
    "        cv2.circle(markerImg,(x,y),10,(current_marker),-1)\n",
    "        \n",
    "        cv2.circle(img_copy,(x,y),10,colors[current_marker],-1)\n",
    "    \n",
    "        marks_updated = True"
   ]
  },
  {
   "cell_type": "code",
   "execution_count": 9,
   "metadata": {},
   "outputs": [],
   "source": [
    "cv2.namedWindow('OSU Memorial Union')\n",
    "cv2.setMouseCallback('OSU Memorial Union',mouseCallback)\n",
    "\n",
    "while True:\n",
    "    cv2.imshow('Watershed Segmented',segments)\n",
    "    cv2.imshow('OSU Memorial Union',img_copy)\n",
    "    \n",
    "    k=cv2.waitKey(1)\n",
    "    \n",
    "    if k==27:\n",
    "        break\n",
    "        \n",
    "    elif k==ord('c'):\n",
    "        img_copy = img.copy()\n",
    "        markerImg = np.zeros(img.shape[:2],dtype=np.int32)\n",
    "        segments = np.zeros(img.shape,dtype=np.uint8)\n",
    "        \n",
    "        \n",
    "    elif k >0 and chr(k).isdigit():\n",
    "        current_marker  = int(chr(k))\n",
    "        \n",
    "    if marks_updated:\n",
    "        markerImg_copy = markerImg.copy()\n",
    "        cv2.watershed(img,markerImg_copy)\n",
    "        \n",
    "        segments = np.zeros(img.shape,dtype=np.uint8)\n",
    "        \n",
    "        for color_ind in range(n_markers):\n",
    "            segments[markerImg_copy==(color_ind)]  = colors[color_ind]\n",
    "            \n",
    "        marks_updated = False\n",
    "            \n",
    "cv2.destroyAllWindows()"
   ]
  },
  {
   "cell_type": "code",
   "execution_count": null,
   "metadata": {},
   "outputs": [],
   "source": []
  }
 ],
 "metadata": {
  "kernelspec": {
   "display_name": "Python 3",
   "language": "python",
   "name": "python3"
  },
  "language_info": {
   "codemirror_mode": {
    "name": "ipython",
    "version": 3
   },
   "file_extension": ".py",
   "mimetype": "text/x-python",
   "name": "python",
   "nbconvert_exporter": "python",
   "pygments_lexer": "ipython3",
   "version": "3.6.6"
  }
 },
 "nbformat": 4,
 "nbformat_minor": 2
}
