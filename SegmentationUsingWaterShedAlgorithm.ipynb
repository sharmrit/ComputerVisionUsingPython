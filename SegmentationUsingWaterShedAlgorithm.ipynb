{
 "cells": [
  {
   "cell_type": "code",
   "execution_count": 1,
   "metadata": {},
   "outputs": [],
   "source": [
    "import cv2\n",
    "import numpy as np\n",
    "import matplotlib.pyplot as plt\n",
    "from matplotlib import cm\n",
    "%matplotlib inline"
   ]
  },
  {
   "cell_type": "code",
   "execution_count": 2,
   "metadata": {},
   "outputs": [],
   "source": [
    "img = cv2.imread(\"./data/mountain.jpg\")\n",
    "img_copy = img.copy()\n",
    "markerImg = np.zeros(img.shape[:2],dtype=np.int32)\n",
    "segments = np.zeros(img.shape,dtype=np.uint8)\n",
    "\n",
    "def createRGB(i):\n",
    "    x = np.array(cm.tab10(i))[:3]*255\n",
    "    return tuple(x)\n",
    "    \n",
    "colors=[]\n",
    "for i in range(10):\n",
    "    colors.append(createRGB(i))"
   ]
  },
  {
   "cell_type": "code",
   "execution_count": 3,
   "metadata": {},
   "outputs": [],
   "source": [
    "n_markers =10\n",
    "current_marker = 1\n",
    "marks_updated = False"
   ]
  },
  {
   "cell_type": "code",
   "execution_count": 4,
   "metadata": {},
   "outputs": [],
   "source": [
    "def mouseCallback(event,x,y,flags,param):\n",
    "    global marks_updated\n",
    "    \n",
    "    if event == cv2.EVENT_LBUTTONDOWN:\n",
    "        cv2.circle(markerImg,(x,y),10,(current_marker),-1)\n",
    "        \n",
    "        cv2.circle(img_copy,(x,y),10,colors[current_marker],-1)\n",
    "    \n",
    "        marks_updated = True"
   ]
  },
  {
   "cell_type": "code",
   "execution_count": 5,
   "metadata": {},
   "outputs": [],
   "source": [
    "cv2.namedWindow('mountain')\n",
    "cv2.setMouseCallback('mountain',mouseCallback)\n",
    "\n",
    "while True:\n",
    "    cv2.imshow('Watershed Segmented',segments)\n",
    "    cv2.imshow('mountain',img_copy)\n",
    "    \n",
    "    k=cv2.waitKey(1)\n",
    "    \n",
    "    if k==27:\n",
    "        break\n",
    "        \n",
    "    elif k==ord('c'):\n",
    "        img_copy = img.copy()\n",
    "        markerImg = np.zeros(img.shape[:2],dtype=np.int32)\n",
    "        segments = np.zeros(img.shape,dtype=np.uint8)\n",
    "        \n",
    "        \n",
    "    elif k >0 and chr(k).isdigit():\n",
    "        current_marker  = int(chr(k))\n",
    "        \n",
    "    if marks_updated:\n",
    "        markerImg_copy = markerImg.copy()\n",
    "        cv2.watershed(img,markerImg_copy)\n",
    "        \n",
    "        segments = np.zeros(img.shape,dtype=np.uint8)\n",
    "        \n",
    "        for color_ind in range(n_markers):\n",
    "            segments[markerImg_copy==(color_ind)]  = colors[color_ind]\n",
    "            \n",
    "        marks_updated = False\n",
    "            \n",
    "cv2.destroyAllWindows()"
   ]
  },
  {
   "cell_type": "code",
   "execution_count": null,
   "metadata": {},
   "outputs": [],
   "source": []
  }
 ],
 "metadata": {
  "kernelspec": {
   "display_name": "Python 3",
   "language": "python",
   "name": "python3"
  },
  "language_info": {
   "codemirror_mode": {
    "name": "ipython",
    "version": 3
   },
   "file_extension": ".py",
   "mimetype": "text/x-python",
   "name": "python",
   "nbconvert_exporter": "python",
   "pygments_lexer": "ipython3",
   "version": "3.6.6"
  }
 },
 "nbformat": 4,
 "nbformat_minor": 2
}
